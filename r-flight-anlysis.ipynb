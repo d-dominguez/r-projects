{
 "cells": [
  {
   "cell_type": "code",
   "execution_count": 6,
   "metadata": {},
   "outputs": [
    {
     "ename": "ERROR",
     "evalue": "Error in library(e1071): there is no package called ‘e1071’\n",
     "output_type": "error",
     "traceback": [
      "Error in library(e1071): there is no package called ‘e1071’\nTraceback:\n",
      "1. library(e1071)",
      "2. stop(txt, domain = NA)"
     ]
    }
   ],
   "source": [
    "library(dplyr) # Data manipulation\n",
    "library(e1071) # Skewness and Kurtosis\n",
    "library(reshape2) # Melt data"
   ]
  },
  {
   "cell_type": "code",
   "execution_count": 5,
   "metadata": {},
   "outputs": [
    {
     "name": "stderr",
     "output_type": "stream",
     "text": [
      "Warning message in install.packages(\"e1071\", \"/home/ddomin2363/anaconda3/lib/R/library\"):\n",
      "“installation of package ‘e1071’ had non-zero exit status”Updating HTML index of packages in '.Library'\n",
      "Making 'packages.html' ... done\n"
     ]
    }
   ],
   "source": [
    "install.packages(\"e1071\", \"/home/ddomin2363/anaconda3/lib/R/library\")"
   ]
  },
  {
   "cell_type": "code",
   "execution_count": null,
   "metadata": {
    "collapsed": true
   },
   "outputs": [],
   "source": [
    "unzip(\"/home/ddomin2363/Documents/datasets/On_Time_On_Time_Performance_2016_11.zip\", exdir = \"data\")\n",
    "flights <- read.csv(\"/home/ddomin2363/Documents/datasets/On_Time_On_Time_Performance_2016_11.csv\")"
   ]
  },
  {
   "cell_type": "code",
   "execution_count": null,
   "metadata": {
    "collapsed": true
   },
   "outputs": [],
   "source": [
    "flights.sfo <- flights %>%\n",
    "  filter(Origin == \"SFO\") %>%\n",
    "  select(Carrier, Distance, AirTime, DepDelayMinutes, ArrDelayMinutes,\n",
    "         CarrierDelay, WeatherDelay, NASDelay, SecurityDelay,\n",
    "         LateAircraftDelay, DayofMonth, DayOfWeek)"
   ]
  },
  {
   "cell_type": "code",
   "execution_count": null,
   "metadata": {
    "collapsed": true
   },
   "outputs": [],
   "source": [
    "flights.q1 <- flights.sfo %>%\n",
    "  select(DayofMonth, LateAircraftDelay, CarrierDelay, WeatherDelay, NASDelay, SecurityDelay) %>%\n",
    "  melt(id = \"DayofMonth\")"
   ]
  },
  {
   "cell_type": "code",
   "execution_count": null,
   "metadata": {
    "collapsed": true
   },
   "outputs": [],
   "source": [
    "flights.sfo.q1.desc <- flights.q1 %>%\n",
    "  group_by(variable) %>%\n",
    "  summarise(\n",
    "    count = n(),\n",
    "    sum = sum(value, na.rm = TRUE), \n",
    "    min = min(value, na.rm = TRUE), \n",
    "    max = max(value, na.rm = TRUE), \n",
    "    mean = mean(value, na.rm = TRUE), \n",
    "    median = median(value, na.rm = TRUE), \n",
    "    range = max - min, \n",
    "    q1 = quantile(value, na.rm = TRUE)[2], \n",
    "    q3 = quantile(value, na.rm = TRUE)[4], \n",
    "    iqr = q3 - q1, \n",
    "    sd = sd(value, na.rm = TRUE), \n",
    "    var = var(value, na.rm = TRUE), \n",
    "    kurtosis = kurtosis(value, na.rm = TRUE), \n",
    "    skewness = skewness(value, na.rm = TRUE)#,\n",
    "    #shapiro = shapiro.test(value)$statistic[1]\n",
    "  )"
   ]
  },
  {
   "cell_type": "code",
   "execution_count": null,
   "metadata": {
    "collapsed": true
   },
   "outputs": [],
   "source": [
    "flights.sfo.desc <- flights.sfo %>%\n",
    "  filter(DepDelayMinutes > 0) %>%\n",
    "  group_by(Carrier) %>%\n",
    "  summarise(\n",
    "    count = n(),\n",
    "    sum = sum(DepDelayMinutes, na.rm = TRUE), \n",
    "    min = min(DepDelayMinutes, na.rm = TRUE), \n",
    "    max = max(DepDelayMinutes, na.rm = TRUE), \n",
    "    mean = mean(DepDelayMinutes, na.rm = TRUE), \n",
    "    median = median(DepDelayMinutes, na.rm = TRUE), \n",
    "    range = max - min, \n",
    "    q1 = quantile(DepDelayMinutes, na.rm = TRUE)[2], \n",
    "    q3 = quantile(DepDelayMinutes, na.rm = TRUE)[4], \n",
    "    iqr = q3 - q1, \n",
    "    sd = sd(DepDelayMinutes, na.rm = TRUE), \n",
    "    var = var(DepDelayMinutes, na.rm = TRUE), \n",
    "    kurtosis = kurtosis(DepDelayMinutes, na.rm = TRUE), \n",
    "    skewness = skewness(DepDelayMinutes, na.rm = TRUE),\n",
    "    shapiro = shapiro.test(DepDelayMinutes)$statistic[1]\n",
    "  )"
   ]
  }
 ],
 "metadata": {
  "kernelspec": {
   "display_name": "R",
   "language": "R",
   "name": "ir"
  },
  "language_info": {
   "codemirror_mode": "r",
   "file_extension": ".r",
   "mimetype": "text/x-r-source",
   "name": "R",
   "pygments_lexer": "r",
   "version": "3.3.2"
  }
 },
 "nbformat": 4,
 "nbformat_minor": 2
}
